{
 "cells": [
  {
   "cell_type": "code",
   "execution_count": 1,
   "metadata": {
    "collapsed": true
   },
   "outputs": [
    {
     "name": "stdout",
     "output_type": "stream",
     "text": [
      "[0, 1, 4, 9, 16]\n<generator object <genexpr> at 0x000000000D278A98>\n"
     ]
    }
   ],
   "source": [
    "# 迭代器和生成器\n",
    "L = [x*x for x in range(5)]\n",
    "print(L)\n",
    "# 这个是列表，也就是迭代器，把外部[]改成()，数据结构会发生变化\n",
    "# 会变成生成器\n",
    "g = (x*x for x in range(5))\n",
    "print(g)\n",
    "\n",
    "\n"
   ]
  },
  {
   "cell_type": "code",
   "execution_count": 3,
   "metadata": {},
   "outputs": [
    {
     "name": "stdout",
     "output_type": "stream",
     "text": [
      "今年不是2020\n"
     ]
    }
   ],
   "source": [
    "# 手写一个判断时间的装饰器\n",
    "import datetime\n",
    "\n",
    "class TimeException(Exception):\n",
    "    # 这个Exception是所有异常的基类\n",
    "    def __init__(self,exception_info):\n",
    "        super().__init__()\n",
    "        # 这个报错不管，这个sb pycharm\n",
    "        self.info = exception_info\n",
    "\n",
    "def timecheck(func):\n",
    "    def wrapper(*args, **kwargs):\n",
    "        if datetime.datetime.now().year == 2020:\n",
    "            func(args, kwargs)\n",
    "        else:\n",
    "            print(\"今年不是2020\")\n",
    "    return wrapper\n",
    "\n",
    "@timecheck\n",
    "def test(name):\n",
    "    # 有装饰器之后就会对时间进行判断，不会打印出后面这句话了\n",
    "    print(\"hello{}\".format(name))\n",
    "    \n",
    "if __name__ == \"__main__\":\n",
    "    test(\"back\")\n",
    "        \n",
    "\n",
    "\n"
   ]
  },
  {
   "cell_type": "code",
   "execution_count": 4,
   "metadata": {},
   "outputs": [
    {
     "name": "stdout",
     "output_type": "stream",
     "text": [
      "function\n"
     ]
    }
   ],
   "source": [
    "# 猴子补丁指在运行时候动态改变类或者模块\n",
    "# 就是函数在Python中可以像使用变量一样对它进行赋值等操作\n",
    "class MyClass(object):\n",
    "    def func(self):\n",
    "        print(\"function\")\n",
    "class ClassName(object):\n",
    "    def monkey_func(self):\n",
    "        print(\"monkey function\")\n",
    "\n",
    "obj = MyClass()\n",
    "obj.func()\n",
    "\n"
   ]
  },
  {
   "cell_type": "code",
   "execution_count": 5,
   "metadata": {},
   "outputs": [
    {
     "name": "stdout",
     "output_type": "stream",
     "text": [
      "monkey function\n"
     ]
    }
   ],
   "source": [
    "# 现在我们再添加两行代码\n",
    "MyClass.func = ClassName.monkey_func\n",
    "obj.func()\n",
    "# 这样子就把本来要输出的func改成了另外一个类里面的monkey_func"
   ]
  },
  {
   "cell_type": "code",
   "execution_count": 7,
   "metadata": {},
   "outputs": [
    {
     "name": "stdout",
     "output_type": "stream",
     "text": [
      "False\nTrue\n"
     ]
    }
   ],
   "source": [
    "# ==和is的区别\n",
    "# is是判断id是否一致，而==是判断内容是否相等\n",
    "a = 'abc'\n",
    "b = ''.join(['a', 'b', 'c'])\n",
    "print(a is b)\n",
    "print(a == b)"
   ]
  },
  {
   "cell_type": "code",
   "execution_count": 10,
   "metadata": {},
   "outputs": [
    {
     "name": "stdout",
     "output_type": "stream",
     "text": [
      "[1, 2, ['hey', 4]]\n['a', 2, ['hey', 4]]\nFalse\n[1, 2, [3, 4]]\n"
     ]
    }
   ],
   "source": [
    "# 浅拷贝和深拷贝\n",
    "# 浅拷贝就是调用对象而已，但是不会拷贝内部的子对象\n",
    "import copy\n",
    "origin = [1,2,[3,4]]\n",
    "cop = copy.copy(origin)\n",
    "cop1 = copy.deepcopy(origin)\n",
    "origin[2][0] = 'hey'\n",
    "origin[0] = 'a'\n",
    "print(cop)\n",
    "# 位置1就是直接复制的之前的值\n",
    "# 位置3,4指向同一块内存地址，是内部的子对象\n",
    "# 所以内容也发生了改变\n",
    "print(origin)\n",
    "print(cop1 == origin)\n",
    "print(cop1)\n",
    "# 深度拷贝之后，就已经是两个完全独立的对象了\n",
    "# 指向的也是不同的内存地址\n",
    "\n"
   ]
  },
  {
   "cell_type": "code",
   "execution_count": null,
   "metadata": {},
   "outputs": [],
   "source": [
    "# 可变类型型传递的是内存中的地址，也就是说当进行修改操作时，\n",
    "# 会直接修改内存中的值，并没有开辟新的内存，可变类型的代表有list,dict\n",
    "# 不可变类型被改变时，并没有改变原内存地址中的值，\n",
    "# 而是开辟一块新的内存，将原地址中的值复制过去，对这块新开辟的内存中的值进行操作，其代表有string，number,tuple\n",
    "# 都可以通过打印id出来检测"
   ]
  },
  {
   "cell_type": "code",
   "execution_count": null,
   "metadata": {},
   "outputs": [],
   "source": [
    "# Python的自省功能就是面向对象的语言所写的程序在运行时，\n",
    "# 能够知道对象的类型。简单一句就是运行时能够获得对象的类型，\n",
    "# 比如type()、dir()、getattr()、hasattr()、isinstance()等方法"
   ]
  },
  {
   "cell_type": "code",
   "execution_count": null,
   "metadata": {},
   "outputs": [],
   "source": [
    "# 前置单下划线形态_foo，这里的下划线是用来指定私有变量的一种方式，常用于模块中，在一个模块中以单下划线开头的变量和函数被默认当作内部函数，如果使用 from a_module import * 导入时，这部分变量和函数不会被导入。\n",
    "# \n",
    "# 前置双下划线形态__foo，主要是为了区别和其他类相同的命名，避免该成员的名称与子类中的名称冲突。例如有有类class里有一成员 __x，那么 dir(class) 时会看到_Test__x而非__x。\n",
    "# \n",
    "# 前后双下划线形态__foo__，定义的是Python 中的魔法对象，如类成员的__init__、__del__、__add__、__getitem__、全局的__file__、__name__等。"
   ]
  },
  {
   "cell_type": "code",
   "execution_count": null,
   "metadata": {},
   "outputs": [],
   "source": []
  }
 ],
 "metadata": {
  "kernelspec": {
   "display_name": "Python 2",
   "language": "python",
   "name": "python2"
  },
  "language_info": {
   "codemirror_mode": {
    "name": "ipython",
    "version": 2
   },
   "file_extension": ".py",
   "mimetype": "text/x-python",
   "name": "python",
   "nbconvert_exporter": "python",
   "pygments_lexer": "ipython2",
   "version": "2.7.6"
  }
 },
 "nbformat": 4,
 "nbformat_minor": 0
}
