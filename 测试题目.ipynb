{
 "cells": [
  {
   "cell_type": "code",
   "execution_count": 1,
   "metadata": {
    "collapsed": true
   },
   "outputs": [
    {
     "name": "stdout",
     "output_type": "stream",
     "text": [
      "[0, 1, 4, 9, 16]\n<generator object <genexpr> at 0x000000000D278A98>\n"
     ]
    }
   ],
   "source": [
    "# 迭代器和生成器\n",
    "L = [x*x for x in range(5)]\n",
    "print(L)\n",
    "# 这个是列表，也就是迭代器，把外部[]改成()，数据结构会发生变化\n",
    "# 会变成生成器\n",
    "g = (x*x for x in range(5))\n",
    "print(g)\n",
    "\n",
    "\n"
   ]
  },
  {
   "cell_type": "code",
   "execution_count": 3,
   "metadata": {},
   "outputs": [
    {
     "name": "stdout",
     "output_type": "stream",
     "text": [
      "今年不是2020\n"
     ]
    }
   ],
   "source": [
    "# 手写一个判断时间的装饰器\n",
    "import datetime\n",
    "\n",
    "class TimeException(Exception):\n",
    "    # 这个Exception是所有异常的基类\n",
    "    def __init__(self,exception_info):\n",
    "        super().__init__()\n",
    "        # 这个报错不管，这个sb pycharm\n",
    "        self.info = exception_info\n",
    "\n",
    "def timecheck(func):\n",
    "    def wrapper(*args, **kwargs):\n",
    "        if datetime.datetime.now().year == 2020:\n",
    "            func(args, kwargs)\n",
    "        else:\n",
    "            print(\"今年不是2020\")\n",
    "    return wrapper\n",
    "\n",
    "@timecheck\n",
    "def test(name):\n",
    "    # 有装饰器之后就会对时间进行判断，不会打印出后面这句话了\n",
    "    print(\"hello{}\".format(name))\n",
    "    \n",
    "if __name__ == \"__main__\":\n",
    "    test(\"back\")\n",
    "        \n",
    "\n",
    "\n"
   ]
  },
  {
   "cell_type": "code",
   "execution_count": null,
   "metadata": {},
   "outputs": [],
   "source": [
    "# 猴子补丁"
   ]
  }
 ],
 "metadata": {
  "kernelspec": {
   "display_name": "Python 2",
   "language": "python",
   "name": "python2"
  },
  "language_info": {
   "codemirror_mode": {
    "name": "ipython",
    "version": 2
   },
   "file_extension": ".py",
   "mimetype": "text/x-python",
   "name": "python",
   "nbconvert_exporter": "python",
   "pygments_lexer": "ipython2",
   "version": "2.7.6"
  }
 },
 "nbformat": 4,
 "nbformat_minor": 0
}
