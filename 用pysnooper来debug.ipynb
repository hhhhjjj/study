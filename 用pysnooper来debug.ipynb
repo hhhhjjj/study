{
 "cells": [
  {
   "cell_type": "code",
   "execution_count": 2,
   "metadata": {
    "collapsed": true
   },
   "outputs": [
    {
     "name": "stdout",
     "output_type": "stream",
     "text": [
      "Requirement already satisfied: pysnooper in d:\\ai\\lib\\site-packages (0.2.8)\n"
     ]
    }
   ],
   "source": [
    "# ! pip install pysnooper"
   ]
  },
  {
   "cell_type": "code",
   "execution_count": 3,
   "metadata": {},
   "outputs": [
    {
     "name": "stderr",
     "output_type": "stream",
     "text": [
      "Source path:... <ipython-input-3-d9086aeb58cb>\nStarting var:.. number = 6\n11:04:41.179822 call         4 def number_to_bits(number):\n11:04:41.180822 line         5     if number:\n11:04:41.180822 line         6         bits = []\nNew var:....... bits = []\n11:04:41.181822 line         7         while number:\n11:04:41.181822 line         8             number, remainder = divmod(number, 2)\nModified var:.. number = 3\nNew var:....... remainder = 0\n11:04:41.181822 line         9             bits.insert(0, remainder)\nModified var:.. bits = [0]\n11:04:41.181822 line         7         while number:\n11:04:41.181822 line         8             number, remainder = divmod(number, 2)\nModified var:.. number = 1\nModified var:.. remainder = 1\n11:04:41.181822 line         9             bits.insert(0, remainder)\nModified var:.. bits = [1, 0]\n11:04:41.182822 line         7         while number:\n11:04:41.182822 line         8             number, remainder = divmod(number, 2)\nModified var:.. number = 0\n11:04:41.182822 line         9             bits.insert(0, remainder)\nModified var:.. bits = [1, 1, 0]\n11:04:41.184822 line         7         while number:\n11:04:41.194822 line        10         return bits\n11:04:41.194822 return      10         return bits\nReturn value:.. [1, 1, 0]\n"
     ]
    },
    {
     "data": {
      "text/plain": [
       "[1, 1, 0]"
      ]
     },
     "execution_count": 3,
     "metadata": {},
     "output_type": "execute_result"
    }
   ],
   "source": [
    "import pysnooper\n",
    "\n",
    "@pysnooper.snoop()\n",
    "def number_to_bits(number):\n",
    "    if number:\n",
    "        bits = []\n",
    "        while number:\n",
    "            number, remainder = divmod(number, 2)\n",
    "            bits.insert(0, remainder)\n",
    "        return bits\n",
    "    else:\n",
    "        return [0]\n",
    "\n",
    "number_to_bits(6)"
   ]
  },
  {
   "cell_type": "code",
   "execution_count": 4,
   "metadata": {},
   "outputs": [
    {
     "name": "stderr",
     "output_type": "stream",
     "text": [
      "Source path:... <ipython-input-4-88a8e15915fe>\nStarting var:.. times = 3\n11:05:35.700822 call         5 def multi_matmul(times):\n11:05:35.700822 line         6     x = np.random.rand(2, 2)\nNew var:....... x = array([[0.32551915, 0.39202854],       [0.45326566, 0.61215142]])\n11:05:35.701822 line         7     w = np.random.rand(2, 2)\nNew var:....... w = array([[0.28008779, 0.21122847],       [0.18754945, 0.03538329]])\n11:05:35.704822 line         9     for i in range(times):\nNew var:....... i = 0\n11:05:35.705822 line        10         x = np.matmul(x, w)\nModified var:.. x = array([[0.16469868, 0.08263017],       [0.24176284, 0.11740255]])\n11:05:35.709822 line         9     for i in range(times):\nModified var:.. i = 1\n11:05:35.711822 line        10         x = np.matmul(x, w)\nModified var:.. x = array([[0.06162733, 0.03771278],       [0.0897336 , 0.05522128]])\n11:05:35.712822 line         9     for i in range(times):\nModified var:.. i = 2\n11:05:35.713822 line        10         x = np.matmul(x, w)\nModified var:.. x = array([[0.02433407, 0.01435185],       [0.03549001, 0.0209082 ]])\n11:05:35.714822 line         9     for i in range(times):\n11:05:35.715822 line        11     return x\n11:05:35.716822 return      11     return x\nReturn value:.. array([[0.02433407, 0.01435185],       [0.03549001, 0.0209082 ]])\n"
     ]
    },
    {
     "data": {
      "text/plain": [
       "array([[0.02433407, 0.01435185],\n       [0.03549001, 0.0209082 ]])"
      ]
     },
     "execution_count": 4,
     "metadata": {},
     "output_type": "execute_result"
    }
   ],
   "source": [
    "import pysnooper\n",
    "import numpy as np\n",
    "\n",
    "@pysnooper.snoop()\n",
    "def multi_matmul(times):\n",
    "    x = np.random.rand(2, 2)\n",
    "    w = np.random.rand(2, 2)\n",
    "\n",
    "    for i in range(times):\n",
    "        x = np.matmul(x, w)\n",
    "    return x\n",
    "\n",
    "multi_matmul(3)"
   ]
  },
  {
   "cell_type": "code",
   "execution_count": null,
   "metadata": {},
   "outputs": [],
   "source": []
  }
 ],
 "metadata": {
  "kernelspec": {
   "display_name": "Python 2",
   "language": "python",
   "name": "python2"
  },
  "language_info": {
   "codemirror_mode": {
    "name": "ipython",
    "version": 2
   },
   "file_extension": ".py",
   "mimetype": "text/x-python",
   "name": "python",
   "nbconvert_exporter": "python",
   "pygments_lexer": "ipython2",
   "version": "2.7.6"
  }
 },
 "nbformat": 4,
 "nbformat_minor": 0
}
