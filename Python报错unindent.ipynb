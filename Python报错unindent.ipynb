{
 "cells": [
  {
   "cell_type": "code",
   "execution_count": null,
   "metadata": {
    "collapsed": true
   },
   "outputs": [],
   "source": [
    "# unindent does not match nay outer indentation level\n",
    "# 这个报错基本上是空格和tab混用\n",
    "# 然而这个混用在pycharm里面看的不清楚\n",
    "# 而且如果全是自己写的代码也不会有这个问题\n",
    "# 这个去notepad里面空白字符处理替换一下就全部解决了"
   ]
  }
 ],
 "metadata": {
  "kernelspec": {
   "display_name": "Python 2",
   "language": "python",
   "name": "python2"
  },
  "language_info": {
   "codemirror_mode": {
    "name": "ipython",
    "version": 2
   },
   "file_extension": ".py",
   "mimetype": "text/x-python",
   "name": "python",
   "nbconvert_exporter": "python",
   "pygments_lexer": "ipython2",
   "version": "2.7.6"
  }
 },
 "nbformat": 4,
 "nbformat_minor": 0
}
