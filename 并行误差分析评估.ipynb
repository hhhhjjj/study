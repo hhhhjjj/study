{
 "cells": [
  {
   "cell_type": "code",
   "execution_count": null,
   "metadata": {
    "collapsed": true
   },
   "outputs": [],
   "source": [
    "# 图像识别猫为例子，检测器精确度为百分之90\n",
    "# 假如出现的误差里面是狗的为百分之5，那么不管怎么调参改模型，这个检测器的精确度最多也就到百分之90.5\n",
    "# 所以还是应该要抓住主要矛盾啊，这样才能更好的提高准确度\n",
    "# 一般大型开发集都会分成两部分，但是只会去人工检测一半，找出错误样本这些\n",
    "# 然后发现人为检查的开发集上性能好很多，那就过拟合了，这时候就找更多数据"
   ]
  },
  {
   "cell_type": "code",
   "execution_count": null,
   "metadata": {},
   "outputs": [],
   "source": [
    "# 训练集上的错误率是偏差\n",
    "# 测试集上的表现比训练集差的程度，这个差值就叫做方差，\n",
    "# 正则化一般就是拿来减少过拟合的，会增大偏差\n",
    "# 其实还是更多的数据集比较好"
   ]
  },
  {
   "cell_type": "code",
   "execution_count": null,
   "metadata": {},
   "outputs": [],
   "source": []
  },
  {
   "cell_type": "code",
   "execution_count": null,
   "metadata": {},
   "outputs": [],
   "source": []
  },
  {
   "cell_type": "code",
   "execution_count": null,
   "metadata": {},
   "outputs": [],
   "source": []
  },
  {
   "cell_type": "code",
   "execution_count": null,
   "metadata": {},
   "outputs": [],
   "source": []
  }
 ],
 "metadata": {
  "kernelspec": {
   "display_name": "Python 2",
   "language": "python",
   "name": "python2"
  },
  "language_info": {
   "codemirror_mode": {
    "name": "ipython",
    "version": 2
   },
   "file_extension": ".py",
   "mimetype": "text/x-python",
   "name": "python",
   "nbconvert_exporter": "python",
   "pygments_lexer": "ipython2",
   "version": "2.7.6"
  }
 },
 "nbformat": 4,
 "nbformat_minor": 0
}
