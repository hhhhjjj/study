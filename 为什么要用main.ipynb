{
 "cells": [
  {
   "cell_type": "code",
   "execution_count": null,
   "metadata": {
    "collapsed": true
   },
   "outputs": [],
   "source": [
    "# 假设现在是在test1.py里面\n",
    "test1.py\n",
    "\n",
    "# 定义foo函数\n",
    "def foo():\n",
    "    print('from foo...')\n",
    "\n",
    "foo()  # from foo...\n"
   ]
  },
  {
   "cell_type": "code",
   "execution_count": null,
   "metadata": {},
   "outputs": [],
   "source": [
    "# 然后在test2里面调用这个test1的foo函数\n",
    "# test2.py\n",
    "# \n",
    "# # from test_1 import test1\n",
    "# \n",
    "# 在test2.py模块中打印test1.py模块中的__name__属性发生了变化\n",
    "# print(test1.__name__)  # test_1.test1\n",
    "# \n",
    "# def bar():\n",
    "#     print('from bar...')\n",
    "# \n",
    "# bar()  \n",
    "# \n",
    "# # 此时会在当前文件中执行bar函数会自动执行test1模块中的foo函数\n",
    "# '''\n",
    "# from foo...\n",
    "# from bar...\n",
    "# '''\n",
    "# 这时候打印test1名字的时候会的test1的foo函数也给执行了\n",
    "\n",
    "\n"
   ]
  },
  {
   "cell_type": "code",
   "execution_count": null,
   "metadata": {},
   "outputs": [],
   "source": [
    "# 因为在python中一切皆对象，其实模块也是一个对象，那么每一个模块中都包含着一个__name__属性，而这个属性会根据模块所在的位置而发生变化。\n",
    "# 我们可以通过对__name__这个属性进行判断。从而解决因为导入其他模块自动执行的问题。"
   ]
  },
  {
   "cell_type": "code",
   "execution_count": null,
   "metadata": {},
   "outputs": [],
   "source": [
    "# 所以修改test1的代码\n",
    "test1.py \n",
    "\n",
    "# 定义foo函数\n",
    "def foo():\n",
    "    print('from foo...')\n",
    "\n",
    "# 在当前文件中的__name__属性值\n",
    "print(__name__)  # __main__\n",
    "\n",
    "if __name__ == '__main__':  # __name__： test_1.test1\n",
    "    foo()\n",
    "# 这样子在执行test2的时候就不会报错了"
   ]
  },
  {
   "cell_type": "code",
   "execution_count": null,
   "metadata": {},
   "outputs": [],
   "source": []
  },
  {
   "cell_type": "code",
   "execution_count": null,
   "metadata": {},
   "outputs": [],
   "source": []
  }
 ],
 "metadata": {
  "kernelspec": {
   "display_name": "Python 2",
   "language": "python",
   "name": "python2"
  },
  "language_info": {
   "codemirror_mode": {
    "name": "ipython",
    "version": 2
   },
   "file_extension": ".py",
   "mimetype": "text/x-python",
   "name": "python",
   "nbconvert_exporter": "python",
   "pygments_lexer": "ipython2",
   "version": "2.7.6"
  }
 },
 "nbformat": 4,
 "nbformat_minor": 0
}
