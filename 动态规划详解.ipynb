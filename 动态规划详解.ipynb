{
 "cells": [
  {
   "cell_type": "code",
   "execution_count": null,
   "metadata": {
    "collapsed": true
   },
   "outputs": [],
   "source": [
    "# 在一个微信公众号看到的文章，在这记录一下\n",
    "# https://mp.weixin.qq.com/s?__biz=Mzg3MDA3NTE1NQ==&mid=2247484397&idx=2&sn=b580f09063daf9ed20bac3e2f25e1a46&chksm=ce921d91f9e59487148bd1743e5f28e7078757c0e81279d48c59dd22e35fa77956f83d0bbaea&scene=0&xtrack=1&key=42723105be24aeef405907ddbb611bd9d3d7ae1e5c7e60adb32b801ef404b869afd01433b4f414e23fbfabc2511b0e231566996d01877bb4e40ca695a946e9829234a0f56385811625d73e71648eedb5&ascene=1&uin=MjcwNDMwNDgyNQ%3D%3D&devicetype=Windows+7&version=62070152&lang=zh_CN&pass_ticket=nq6IMjSOpQKsKiy2ab96dO%2BNfZNViYk%2BIRgIifxpXn9g4byoeK%2BuSVpPEo3lI%2FUN"
   ]
  },
  {
   "cell_type": "code",
   "execution_count": null,
   "metadata": {},
   "outputs": [],
   "source": [
    "# 以斐波那契为例\n",
    "def fib(n):\n",
    "    if n == 1 or n == 2 : return 1\n",
    "    return fib(n-1) + fib(n-2)\n",
    "# 这个其实也就是状态转移方程"
   ]
  },
  {
   "cell_type": "code",
   "execution_count": null,
   "metadata": {},
   "outputs": [],
   "source": [
    "# 这些递归的问题可以画个递归树出来，比如我想要个fib(20)，那么fib(18)就会被算两次，这个是很浪费时间的\n",
    "# 最后时间复杂度变成了2的n次方"
   ]
  },
  {
   "cell_type": "code",
   "execution_count": null,
   "metadata": {},
   "outputs": [],
   "source": [
    "# 所以首先我们构建一个备忘录是列表或者字典，第一次计算的都记下，后面的先去查再计算"
   ]
  },
  {
   "cell_type": "code",
   "execution_count": null,
   "metadata": {},
   "outputs": [],
   "source": [
    "# 有了备忘录之后，独立成一张表，从下往上推算"
   ]
  },
  {
   "cell_type": "code",
   "execution_count": null,
   "metadata": {},
   "outputs": [],
   "source": [
    "# 甚至于可以进一步优化，其实只需要存储之前两个状态就行，这样子空间复杂度就降下来了"
   ]
  },
  {
   "cell_type": "code",
   "execution_count": null,
   "metadata": {},
   "outputs": [],
   "source": [
    "# 第二个例子是凑零钱问题\n",
    "# k种面值的硬币，每种数量无限，再给一个总金额，问最少需要几个硬币凑出来，凑不出来返回-1"
   ]
  },
  {
   "cell_type": "code",
   "execution_count": null,
   "metadata": {},
   "outputs": [],
   "source": [
    "# 这个也是动态规划的问题，具有最优子结构，就是子问题互相独立。比如高考满分，语文和数学成绩互相独立，但是最后都要满分\n",
    "# 这个凑零钱的可以是比如凑11，那么就是10+1"
   ]
  },
  {
   "cell_type": "code",
   "execution_count": null,
   "metadata": {},
   "outputs": [],
   "source": [
    "# 先确定状态，在择优\n",
    "# 比如k等于3，面值分别是1,2,5，那么构造的树是三叉的\n",
    "# 然后一层层向下拆分，画个递归树"
   ]
  },
  {
   "cell_type": "code",
   "execution_count": null,
   "metadata": {},
   "outputs": [],
   "source": [
    "# 然后也是弄个备忘录出来"
   ]
  },
  {
   "cell_type": "code",
   "execution_count": null,
   "metadata": {},
   "outputs": [],
   "source": []
  },
  {
   "cell_type": "code",
   "execution_count": null,
   "metadata": {},
   "outputs": [],
   "source": []
  },
  {
   "cell_type": "code",
   "execution_count": null,
   "metadata": {},
   "outputs": [],
   "source": []
  },
  {
   "cell_type": "code",
   "execution_count": null,
   "metadata": {},
   "outputs": [],
   "source": []
  },
  {
   "cell_type": "code",
   "execution_count": null,
   "metadata": {},
   "outputs": [],
   "source": []
  },
  {
   "cell_type": "code",
   "execution_count": null,
   "metadata": {},
   "outputs": [],
   "source": []
  },
  {
   "cell_type": "code",
   "execution_count": null,
   "metadata": {},
   "outputs": [],
   "source": []
  }
 ],
 "metadata": {
  "kernelspec": {
   "display_name": "Python 2",
   "language": "python",
   "name": "python2"
  },
  "language_info": {
   "codemirror_mode": {
    "name": "ipython",
    "version": 2
   },
   "file_extension": ".py",
   "mimetype": "text/x-python",
   "name": "python",
   "nbconvert_exporter": "python",
   "pygments_lexer": "ipython2",
   "version": "2.7.6"
  }
 },
 "nbformat": 4,
 "nbformat_minor": 0
}
