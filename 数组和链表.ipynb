{
 "cells": [
  {
   "cell_type": "code",
   "execution_count": null,
   "metadata": {
    "collapsed": true
   },
   "outputs": [],
   "source": [
    "# 为什么数组都是从0开始\n",
    "# 从数组存储的内存模型上来看，\n",
    "# “下标”最确切的定义应该是偏移（offset）。\n",
    "# 如果用a来表示数组的首地址，a[0]就是偏移为0的地址，也就是首地址。"
   ]
  },
  {
   "cell_type": "code",
   "execution_count": null,
   "metadata": {},
   "outputs": [],
   "source": [
    "# LRU淘汰算法，最近最少使用算法，就是要对数据进行淘汰时，先将最近最久没用的数据淘汰掉。\n",
    "# 这个其实就是缓存淘汰用的，就是队列，从头推到尾，最后一个先出去\n",
    "# 当然这个还需要从队列当中取值来使用，其他的顺序不发生变化"
   ]
  },
  {
   "cell_type": "code",
   "execution_count": null,
   "metadata": {},
   "outputs": [],
   "source": [
    "# 这种我们用链表来缓存，O1复杂度的话就哈希表\n",
    "# 为了方便淘汰最后一条数据时将尾指针前移一位，这时候用双链表\n",
    "# 要get结点的话，拿到结点之后把这个结点放回首位\n",
    "# map的键为这个结点的key，值为结点的指针"
   ]
  },
  {
   "cell_type": "code",
   "execution_count": null,
   "metadata": {},
   "outputs": [],
   "source": []
  },
  {
   "cell_type": "code",
   "execution_count": null,
   "metadata": {},
   "outputs": [],
   "source": []
  },
  {
   "cell_type": "code",
   "execution_count": null,
   "metadata": {},
   "outputs": [],
   "source": []
  }
 ],
 "metadata": {
  "kernelspec": {
   "display_name": "Python 2",
   "language": "python",
   "name": "python2"
  },
  "language_info": {
   "codemirror_mode": {
    "name": "ipython",
    "version": 2
   },
   "file_extension": ".py",
   "mimetype": "text/x-python",
   "name": "python",
   "nbconvert_exporter": "python",
   "pygments_lexer": "ipython2",
   "version": "2.7.6"
  }
 },
 "nbformat": 4,
 "nbformat_minor": 0
}
